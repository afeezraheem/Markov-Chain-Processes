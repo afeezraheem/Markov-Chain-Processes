{
 "cells": [
  {
   "cell_type": "code",
   "execution_count": 3,
   "metadata": {},
   "outputs": [],
   "source": [
    "# Markov chains are stochastic processes that undergo transitions from one state to another in a state space.\n",
    "# They describe a sequence of possible events in which the probability of each event depends only on the state attained in the previous event. \n",
    "# Transitions occur at every time step. Markov. These models are widely used in scientific and engineering applications.\n",
    "\n",
    "#A Markov chain is a mathematical system that experiences transitions from one state to another according to certain probabilistic rules. \n",
    "# The defining characteristic of a Markov chain is that no matter how the process arrived at its present state, the possible future states are fixed.\n",
    "\n",
    "Import libraries\n",
    "import numpy as np\n",
    "import matplotlib.pyplot as plt\n",
    "plt.style.use('fivethirtyeight')\n",
    "\n",
    "%matplotlib inline"
   ]
  },
  {
   "cell_type": "code",
   "execution_count": 5,
   "metadata": {},
   "outputs": [],
   "source": [
    "# First we'll set some arbitrary inputs\n",
    "# for a maximum population size, as well \n",
    "# as the birth and death rates\n",
    "\n",
    "N = 100  # maximum population size\n",
    "a = .5 / N  # birth rate\n",
    "b = .5 / N  # death rate"
   ]
  },
  {
   "cell_type": "code",
   "execution_count": 7,
   "metadata": {},
   "outputs": [],
   "source": [
    "# Next, we'll construct an array to hold 1000 simulation steps using \n",
    "# numpy. Since our Markov chain is simulated in finite space e.g. 0,1,...,N. \n",
    "# Each state in the 1000-step array will represent a population size.\n",
    "# The x vector will contain the population size at each time step. \n",
    "# We set the initial population size to x0 = 15 meaning there are 15\n",
    "# people in our population when we start the simulation.\n",
    "\n",
    "nsteps = 1000\n",
    "\n",
    "x = np.zeros(nsteps)\n",
    "\n",
    "x[0] = 15"
   ]
  },
  {
   "cell_type": "code",
   "execution_count": 9,
   "metadata": {},
   "outputs": [],
   "source": [
    "# Now we can simulate our Markov chain. For each time step, there is a new birth \n",
    "# with probability axt, and independently, there is a new death with \n",
    "# probability bxt. These probabilities are proportional to the size \n",
    "# of the population at that time (as initialized above). \n",
    "# If the population size reaches 0 or N, the evolution stops:\n",
    "for t in range(nsteps - 1):\n",
    "    # As long as we haven't reached our max population # or\n",
    "    # a population size of 0...\n",
    "    if 0 < x[t] < N - 1:\n",
    "        # Check to see if there's a birth\n",
    "        birth = np.random.rand() <= a * x[t]\n",
    "        # Check to see if there's a death\n",
    "        death = np.random.rand() <= b * x[t]\n",
    "        # Update the population size accordingly\n",
    "        x[t + 1] = x[t] + 1 * birth - 1 * death\n",
    "    # The evolution stops if we reach 0 or N\n",
    "    else:\n",
    "        x[t + 1] = x[t]"
   ]
  },
  {
   "cell_type": "code",
   "execution_count": 10,
   "metadata": {},
   "outputs": [
    {
     "data": {
      "text/plain": [
       "[<matplotlib.lines.Line2D at 0x21437d2d550>]"
      ]
     },
     "execution_count": 10,
     "metadata": {},
     "output_type": "execute_result"
    },
    {
     "data": {
      "image/png": "[encoded data removed]",
      "text/plain": [
       "<Figure size 576x288 with 1 Axes>"
      ]
     },
     "metadata": {
      "needs_background": "light"
     },
     "output_type": "display_data"
    }
   ],
   "source": [
    "# Let's visualize the the evolution of the population size \n",
    "# based on our function above:        \n",
    "fig, ax = plt.subplots(1, 1, figsize=(8, 4))\n",
    "ax.plot(x, lw=2)\n",
    "\n",
    "# (as we can see, at every time step the population size can stay stable, increase, or decrease by 1)"
   ]
  },
  {
   "cell_type": "code",
   "execution_count": 11,
   "metadata": {},
   "outputs": [],
   "source": [
    "# Now that we set up a single function to simulate population size, we can \n",
    "# simulate several independent trials of the Markov chain. Note that we could also \n",
    "# just loop over the previous code, but it would be inefficient given the nested for\n",
    "# loops.\n",
    "#\n",
    "# So, we will vectorize the simulation by considering all independent trials at once. There is a single loop over time. \n",
    "# At every time step, we update all trials simultaneously with vectorized operations \n",
    "# on vectors. The x vector now contains the population size of all trials, at a \n",
    "# particular time. At initialization time, the population sizes are set to random \n",
    "# numbers between 0 and N:\n",
    "ntrials = 100\n",
    "x = np.random.randint(size=ntrials,\n",
    "                      low=0, high=N)"
   ]
  },
  {
   "cell_type": "code",
   "execution_count": 12,
   "metadata": {},
   "outputs": [],
   "source": [
    "# We define a function that performs the simulation. \n",
    "# At every time step, we find the trials that undergo births and \n",
    "# deaths by generating random vectors, and we update the population sizes with vector operations:\n",
    "def simulate(x, nsteps):\n",
    "    \"\"\"Run the simulation.\"\"\"\n",
    "    for _ in range(nsteps - 1):\n",
    "        # As long as the trials are higher than zero\n",
    "        # and less than our max population size, we'll\n",
    "        # update\n",
    "        upd = (0 < x) & (x < N - 1)\n",
    "        # Flag trials where the births occur\n",
    "        #\n",
    "        # The probability of at least one birth is a*x (the birth rate * the population size \n",
    "        # at step t), \n",
    "        # and for each trial, we we generate a birth only \n",
    "        # if the randomly chosen number is less than a*x.\n",
    "        # \n",
    "        birth = 1 * (np.random.rand(ntrials) <= a * x)\n",
    "        # Flag trials where the deaths occur\n",
    "        death = 1 * (np.random.rand(ntrials) <= b * x)\n",
    "        # We update the population size for all trials\n",
    "        x[upd] += birth[upd] - death[upd]"
   ]
  },
  {
   "cell_type": "code",
   "execution_count": 13,
   "metadata": {},
   "outputs": [
    {
     "data": {
      "image/png": "[encoded data removed]",
      "text/plain": [
       "<Figure size 864x216 with 3 Axes>"
      ]
     },
     "metadata": {
      "needs_background": "light"
     },
     "output_type": "display_data"
    }
   ],
   "source": [
    "# Now, let's look at the histograms of the population size at different times. \n",
    "# These histograms represent the probability distribution of the Markov chain, \n",
    "# estimated with independent trials (the Monte Carlo method):        \n",
    "bins = np.linspace(0, N, 25)\n",
    "nsteps_list = [10, 1000, 10000]\n",
    "fig, axes = plt.subplots(1, len(nsteps_list),\n",
    "                         figsize=(12, 3),\n",
    "                         sharey=True)\n",
    "for i, nsteps in enumerate(nsteps_list):\n",
    "    ax = axes[i]\n",
    "    simulate(x, nsteps)\n",
    "    ax.hist(x, bins=bins)\n",
    "    ax.set_xlabel(\"Population size\")\n",
    "    if i == 0:\n",
    "        ax.set_ylabel(\"Histogram\")\n",
    "    ax.set_title(f\"{nsteps} time steps\")\n",
    "\n",
    "# Whereas, initially, the population sizes look uniformly distributed between \n",
    "# 0 and N, they appear to converge to 0 or N after a sufficiently long time. \n",
    "# This is because the states 0 and N are absorbing; once reached, the chain cannot \n",
    "# leave these states. Furthermore, these states can be reached from any other state."
   ]
  },
  {
   "cell_type": "code",
   "execution_count": 15,
   "metadata": {},
   "outputs": [],
   "source": [
    "# A state in a markov chain is called an absorbing state if once the state os entered, it is impossible to leave\n",
    "#Like regular markov chains, absorbing markov chains have the property that the powers of the transition matrix approach\n",
    "# a limiting matrix\n",
    "\n",
    "#In the mathematical theory of probability, an absorbing Markov chain is a Markov chain in which every state can reach an absorbing state. \n",
    "# An absorbing state is a state that, once entered, cannot be left. Like general Markov chains, \n",
    "#...there can be continuous-time absorbing Markov chains with an infinite state space"
   ]
  }
 ],
 "metadata": {
  "kernelspec": {
   "display_name": "Python 3",
   "language": "python",
   "name": "python3"
  },
  "language_info": {
   "codemirror_mode": {
    "name": "ipython",
    "version": 3
   },
   "file_extension": ".py",
   "mimetype": "text/x-python",
   "name": "python",
   "nbconvert_exporter": "python",
   "pygments_lexer": "ipython3",
   "version": "3.8.5"
  }
 },
 "nbformat": 4,
 "nbformat_minor": 4
}
